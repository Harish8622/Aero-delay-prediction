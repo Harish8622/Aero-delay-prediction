{
 "cells": [
  {
   "cell_type": "code",
   "execution_count": 40,
   "id": "df986d41",
   "metadata": {},
   "outputs": [
    {
     "name": "stdout",
     "output_type": "stream",
     "text": [
      "Requirement already satisfied: pandas==2.2.2 in /Users/harish/miniconda3/lib/python3.11/site-packages (from -r ../requirements.txt (line 1)) (2.2.2)\n",
      "Requirement already satisfied: meteostat==1.6.7 in /Users/harish/miniconda3/lib/python3.11/site-packages (from -r ../requirements.txt (line 2)) (1.6.7)\n",
      "Requirement already satisfied: pyarrow==12.0.0 in /Users/harish/miniconda3/lib/python3.11/site-packages (from -r ../requirements.txt (line 3)) (12.0.0)\n",
      "Requirement already satisfied: tqdm in /Users/harish/miniconda3/lib/python3.11/site-packages (from -r ../requirements.txt (line 4)) (4.65.0)\n",
      "Requirement already satisfied: numpy in /Users/harish/miniconda3/lib/python3.11/site-packages (from -r ../requirements.txt (line 5)) (1.26.4)\n",
      "Requirement already satisfied: scikit-learn in /Users/harish/miniconda3/lib/python3.11/site-packages (from -r ../requirements.txt (line 6)) (1.2.2)\n",
      "Requirement already satisfied: lightgbm in /Users/harish/miniconda3/lib/python3.11/site-packages (from -r ../requirements.txt (line 7)) (4.6.0)\n",
      "Requirement already satisfied: joblib in /Users/harish/miniconda3/lib/python3.11/site-packages (from -r ../requirements.txt (line 8)) (1.2.0)\n",
      "Requirement already satisfied: kagglehub in /Users/harish/miniconda3/lib/python3.11/site-packages (from -r ../requirements.txt (line 9)) (0.3.12)\n",
      "Requirement already satisfied: holidays in /Users/harish/miniconda3/lib/python3.11/site-packages (from -r ../requirements.txt (line 10)) (0.78)\n",
      "Requirement already satisfied: seaborn in /Users/harish/miniconda3/lib/python3.11/site-packages (from -r ../requirements.txt (line 11)) (0.13.2)\n",
      "Requirement already satisfied: matplotlib in /Users/harish/miniconda3/lib/python3.11/site-packages (from -r ../requirements.txt (line 12)) (3.7.2)\n",
      "Requirement already satisfied: python-dotenv in /Users/harish/miniconda3/lib/python3.11/site-packages (from -r ../requirements.txt (line 13)) (1.1.1)\n",
      "Requirement already satisfied: python-dateutil>=2.8.2 in /Users/harish/miniconda3/lib/python3.11/site-packages (from pandas==2.2.2->-r ../requirements.txt (line 1)) (2.8.2)\n",
      "Requirement already satisfied: pytz>=2020.1 in /Users/harish/miniconda3/lib/python3.11/site-packages (from pandas==2.2.2->-r ../requirements.txt (line 1)) (2023.3.post1)\n",
      "Requirement already satisfied: tzdata>=2022.7 in /Users/harish/miniconda3/lib/python3.11/site-packages (from pandas==2.2.2->-r ../requirements.txt (line 1)) (2023.3)\n",
      "Requirement already satisfied: scipy>=1.3.2 in /Users/harish/miniconda3/lib/python3.11/site-packages (from scikit-learn->-r ../requirements.txt (line 6)) (1.11.3)\n",
      "Requirement already satisfied: threadpoolctl>=2.0.0 in /Users/harish/miniconda3/lib/python3.11/site-packages (from scikit-learn->-r ../requirements.txt (line 6)) (2.2.0)\n",
      "Requirement already satisfied: packaging in /Users/harish/miniconda3/lib/python3.11/site-packages (from kagglehub->-r ../requirements.txt (line 9)) (25.0)\n",
      "Requirement already satisfied: pyyaml in /Users/harish/miniconda3/lib/python3.11/site-packages (from kagglehub->-r ../requirements.txt (line 9)) (6.0)\n",
      "Requirement already satisfied: requests in /Users/harish/miniconda3/lib/python3.11/site-packages (from kagglehub->-r ../requirements.txt (line 9)) (2.32.4)\n",
      "Requirement already satisfied: contourpy>=1.0.1 in /Users/harish/miniconda3/lib/python3.11/site-packages (from matplotlib->-r ../requirements.txt (line 12)) (1.0.5)\n",
      "Requirement already satisfied: cycler>=0.10 in /Users/harish/miniconda3/lib/python3.11/site-packages (from matplotlib->-r ../requirements.txt (line 12)) (0.11.0)\n",
      "Requirement already satisfied: fonttools>=4.22.0 in /Users/harish/miniconda3/lib/python3.11/site-packages (from matplotlib->-r ../requirements.txt (line 12)) (4.25.0)\n",
      "Requirement already satisfied: kiwisolver>=1.0.1 in /Users/harish/miniconda3/lib/python3.11/site-packages (from matplotlib->-r ../requirements.txt (line 12)) (1.4.4)\n",
      "Requirement already satisfied: pillow>=6.2.0 in /Users/harish/miniconda3/lib/python3.11/site-packages (from matplotlib->-r ../requirements.txt (line 12)) (10.0.1)\n",
      "Requirement already satisfied: pyparsing<3.1,>=2.3.1 in /Users/harish/miniconda3/lib/python3.11/site-packages (from matplotlib->-r ../requirements.txt (line 12)) (3.0.9)\n",
      "Requirement already satisfied: six>=1.5 in /Users/harish/miniconda3/lib/python3.11/site-packages (from python-dateutil>=2.8.2->pandas==2.2.2->-r ../requirements.txt (line 1)) (1.16.0)\n",
      "Requirement already satisfied: charset_normalizer<4,>=2 in /Users/harish/miniconda3/lib/python3.11/site-packages (from requests->kagglehub->-r ../requirements.txt (line 9)) (2.0.4)\n",
      "Requirement already satisfied: idna<4,>=2.5 in /Users/harish/miniconda3/lib/python3.11/site-packages (from requests->kagglehub->-r ../requirements.txt (line 9)) (3.4)\n",
      "Requirement already satisfied: urllib3<3,>=1.21.1 in /Users/harish/miniconda3/lib/python3.11/site-packages (from requests->kagglehub->-r ../requirements.txt (line 9)) (1.26.16)\n",
      "Requirement already satisfied: certifi>=2017.4.17 in /Users/harish/miniconda3/lib/python3.11/site-packages (from requests->kagglehub->-r ../requirements.txt (line 9)) (2024.2.2)\n",
      "\n",
      "\u001b[1m[\u001b[0m\u001b[34;49mnotice\u001b[0m\u001b[1;39;49m]\u001b[0m\u001b[39;49m A new release of pip is available: \u001b[0m\u001b[31;49m25.1.1\u001b[0m\u001b[39;49m -> \u001b[0m\u001b[32;49m25.2\u001b[0m\n",
      "\u001b[1m[\u001b[0m\u001b[34;49mnotice\u001b[0m\u001b[1;39;49m]\u001b[0m\u001b[39;49m To update, run: \u001b[0m\u001b[32;49mpip install --upgrade pip\u001b[0m\n"
     ]
    }
   ],
   "source": [
    "# install required packages\n",
    "!pip install -r ../requirements.txt"
   ]
  },
  {
   "cell_type": "code",
   "execution_count": 55,
   "id": "9403a3a6",
   "metadata": {},
   "outputs": [
    {
     "name": "stdout",
     "output_type": "stream",
     "text": [
      "(735750, 15)\n"
     ]
    },
    {
     "data": {
      "text/html": [
       "<div>\n",
       "<style scoped>\n",
       "    .dataframe tbody tr th:only-of-type {\n",
       "        vertical-align: middle;\n",
       "    }\n",
       "\n",
       "    .dataframe tbody tr th {\n",
       "        vertical-align: top;\n",
       "    }\n",
       "\n",
       "    .dataframe thead th {\n",
       "        text-align: right;\n",
       "    }\n",
       "</style>\n",
       "<table border=\"1\" class=\"dataframe\">\n",
       "  <thead>\n",
       "    <tr style=\"text-align: right;\">\n",
       "      <th></th>\n",
       "      <th>AIRLINE</th>\n",
       "      <th>ORIGIN</th>\n",
       "      <th>DEST</th>\n",
       "      <th>DISTANCE</th>\n",
       "      <th>DELAY_FLAG_15</th>\n",
       "      <th>dep_rain</th>\n",
       "      <th>dep_ice</th>\n",
       "      <th>dep_wind</th>\n",
       "      <th>arr_rain</th>\n",
       "      <th>arr_ice</th>\n",
       "      <th>arr_wind</th>\n",
       "      <th>day_of_week</th>\n",
       "      <th>month</th>\n",
       "      <th>hour_of_day</th>\n",
       "      <th>is_bank_holiday</th>\n",
       "    </tr>\n",
       "  </thead>\n",
       "  <tbody>\n",
       "    <tr>\n",
       "      <th>0</th>\n",
       "      <td>Delta Air Lines Inc.</td>\n",
       "      <td>MSP</td>\n",
       "      <td>SEA</td>\n",
       "      <td>1399.0</td>\n",
       "      <td>0</td>\n",
       "      <td>0.0</td>\n",
       "      <td>0.0</td>\n",
       "      <td>0.0</td>\n",
       "      <td>0.0</td>\n",
       "      <td>0.0</td>\n",
       "      <td>0.0</td>\n",
       "      <td>5</td>\n",
       "      <td>11</td>\n",
       "      <td>21</td>\n",
       "      <td>0</td>\n",
       "    </tr>\n",
       "    <tr>\n",
       "      <th>1</th>\n",
       "      <td>Delta Air Lines Inc.</td>\n",
       "      <td>MSP</td>\n",
       "      <td>SFO</td>\n",
       "      <td>1589.0</td>\n",
       "      <td>1</td>\n",
       "      <td>0.0</td>\n",
       "      <td>0.0</td>\n",
       "      <td>0.0</td>\n",
       "      <td>0.0</td>\n",
       "      <td>0.0</td>\n",
       "      <td>0.0</td>\n",
       "      <td>0</td>\n",
       "      <td>3</td>\n",
       "      <td>16</td>\n",
       "      <td>0</td>\n",
       "    </tr>\n",
       "    <tr>\n",
       "      <th>2</th>\n",
       "      <td>American Airlines Inc.</td>\n",
       "      <td>DCA</td>\n",
       "      <td>BOS</td>\n",
       "      <td>399.0</td>\n",
       "      <td>0</td>\n",
       "      <td>1.0</td>\n",
       "      <td>0.0</td>\n",
       "      <td>0.0</td>\n",
       "      <td>0.0</td>\n",
       "      <td>0.0</td>\n",
       "      <td>0.0</td>\n",
       "      <td>6</td>\n",
       "      <td>6</td>\n",
       "      <td>10</td>\n",
       "      <td>0</td>\n",
       "    </tr>\n",
       "  </tbody>\n",
       "</table>\n",
       "</div>"
      ],
      "text/plain": [
       "                  AIRLINE ORIGIN DEST  DISTANCE  DELAY_FLAG_15  dep_rain  \\\n",
       "0    Delta Air Lines Inc.    MSP  SEA    1399.0              0       0.0   \n",
       "1    Delta Air Lines Inc.    MSP  SFO    1589.0              1       0.0   \n",
       "2  American Airlines Inc.    DCA  BOS     399.0              0       1.0   \n",
       "\n",
       "   dep_ice  dep_wind  arr_rain  arr_ice  arr_wind  day_of_week  month  \\\n",
       "0      0.0       0.0       0.0      0.0       0.0            5     11   \n",
       "1      0.0       0.0       0.0      0.0       0.0            0      3   \n",
       "2      0.0       0.0       0.0      0.0       0.0            6      6   \n",
       "\n",
       "   hour_of_day  is_bank_holiday  \n",
       "0           21                0  \n",
       "1           16                0  \n",
       "2           10                0  "
      ]
     },
     "execution_count": 55,
     "metadata": {},
     "output_type": "execute_result"
    }
   ],
   "source": [
    "import pandas as pd\n",
    "import numpy as np\n",
    "\n",
    "PATH = \"../test_data/data/processed/preprocessed_data.csv\"  # <— change if needed\n",
    "TARGET = \"DELAY_FLAG_15\"\n",
    "\n",
    "df = pd.read_csv(PATH)\n",
    "print(df.shape)\n",
    "df.head(3)"
   ]
  },
  {
   "cell_type": "code",
   "execution_count": 56,
   "id": "a55950a8",
   "metadata": {},
   "outputs": [
    {
     "data": {
      "text/plain": [
       "DELAY_FLAG_15\n",
       "0    0.781256\n",
       "1    0.218744\n",
       "Name: share, dtype: float64"
      ]
     },
     "execution_count": 56,
     "metadata": {},
     "output_type": "execute_result"
    }
   ],
   "source": [
    "# class balance\n",
    "df[TARGET].value_counts(normalize=True).rename(\"share\")\n"
   ]
  },
  {
   "cell_type": "code",
   "execution_count": 57,
   "id": "06076b8b",
   "metadata": {},
   "outputs": [
    {
     "data": {
      "text/plain": [
       "dep_rain    0.753813\n",
       "dep_ice     0.753813\n",
       "dep_wind    0.753813\n",
       "arr_rain    0.753813\n",
       "arr_ice     0.753813\n",
       "arr_wind    0.753813\n",
       "AIRLINE     0.000000\n",
       "ORIGIN      0.000000\n",
       "DEST        0.000000\n",
       "DISTANCE    0.000000\n",
       "dtype: float64"
      ]
     },
     "execution_count": 57,
     "metadata": {},
     "output_type": "execute_result"
    }
   ],
   "source": [
    "# basic NA check\n",
    "df.isna().mean().sort_values(ascending=False).head(10)"
   ]
  },
  {
   "cell_type": "code",
   "execution_count": 43,
   "id": "c884f326",
   "metadata": {},
   "outputs": [
    {
     "name": "stdout",
     "output_type": "stream",
     "text": [
      "Categorical: ['AIRLINE', 'ORIGIN', 'DEST']\n",
      "Weather: ['dep_rain', 'dep_ice', 'dep_wind', 'arr_rain', 'arr_ice', 'arr_wind']\n",
      "Numeric: ['day_of_week', 'month', 'hour_of_day', 'is_bank_holiday', 'DISTANCE']\n"
     ]
    }
   ],
   "source": [
    "# Categorical identifiers (keep raw strings here)\n",
    "candidate_cats = [\"AIRLINE\", \"ORIGIN\", \"DEST\"]\n",
    "\n",
    "# Weather flags (we'll impute missing with 0)\n",
    "candidate_weather = [\"dep_rain\",\"dep_ice\",\"dep_wind\",\"arr_rain\",\"arr_ice\",\"arr_wind\"]\n",
    "\n",
    "# Other numeric features (common ones; add/remove as your file dictates)\n",
    "candidate_num = [\"day_of_week\", \"month\", \"hour_of_day\", \"is_bank_holiday\", \"DISTANCE\"]\n",
    "\n",
    "# Keep only those that actually exist in the DataFrame\n",
    "cat_cols     = [c for c in candidate_cats if c in df.columns]\n",
    "weather_cols = [c for c in candidate_weather if c in df.columns]\n",
    "num_cols     = [c for c in candidate_num if c in df.columns and c not in weather_cols]\n",
    "\n",
    "print(\"Categorical:\", cat_cols)\n",
    "print(\"Weather:\", weather_cols)\n",
    "print(\"Numeric:\", num_cols)\n",
    "\n",
    "# Make sure target is int\n",
    "df[TARGET] = df[TARGET].astype(\"int8\")"
   ]
  },
  {
   "cell_type": "code",
   "execution_count": 44,
   "id": "4bc396e3",
   "metadata": {},
   "outputs": [
    {
     "data": {
      "text/plain": [
       "((1119948, 14), (279988, 14), 0.21170000750034823, 0.21169835850107863)"
      ]
     },
     "execution_count": 44,
     "metadata": {},
     "output_type": "execute_result"
    }
   ],
   "source": [
    "from sklearn.model_selection import train_test_split\n",
    "\n",
    "X = df.drop(columns=[TARGET])\n",
    "y = df[TARGET]\n",
    "\n",
    "X_train, X_test, y_train, y_test = train_test_split(\n",
    "    X, y, test_size=0.2, stratify=y, random_state=42\n",
    ")\n",
    "\n",
    "X_train.shape, X_test.shape, y_train.mean(), y_test.mean()"
   ]
  },
  {
   "cell_type": "code",
   "execution_count": 45,
   "id": "40370f82",
   "metadata": {},
   "outputs": [],
   "source": [
    "from sklearn.compose import ColumnTransformer\n",
    "from sklearn.preprocessing import OneHotEncoder\n",
    "from sklearn.impute import SimpleImputer\n",
    "\n",
    "pre = ColumnTransformer(\n",
    "    transformers=[\n",
    "        (\"weather\", SimpleImputer(strategy=\"constant\", fill_value=0), weather_cols),\n",
    "        (\"num\", SimpleImputer(strategy=\"median\"), num_cols),\n",
    "        (\"cat\", OneHotEncoder(handle_unknown=\"ignore\", sparse_output=False), cat_cols),\n",
    "    ],\n",
    "    remainder=\"drop\"\n",
    ")"
   ]
  },
  {
   "cell_type": "code",
   "execution_count": 46,
   "id": "ec36ca1a",
   "metadata": {},
   "outputs": [],
   "source": [
    "from sklearn.pipeline import Pipeline\n",
    "from sklearn.dummy import DummyClassifier\n",
    "from sklearn.linear_model import LogisticRegression\n",
    "from lightgbm import LGBMClassifier\n",
    "\n",
    "models = {\n",
    "    \"dummy\": Pipeline([(\"pre\", pre), (\"clf\", DummyClassifier(strategy=\"most_frequent\"))]),\n",
    "    \"logreg\": Pipeline([\n",
    "        (\"pre\", pre),\n",
    "        (\"clf\", LogisticRegression(max_iter=500, class_weight=\"balanced\", n_jobs=-1))\n",
    "    ]),\n",
    "    \"lgbm\": Pipeline([\n",
    "        (\"pre\", pre),\n",
    "        (\"clf\", LGBMClassifier(\n",
    "            n_estimators=800,\n",
    "            learning_rate=0.05,\n",
    "            num_leaves=63,\n",
    "            subsample=0.8,\n",
    "            colsample_bytree=0.8,\n",
    "            class_weight=\"balanced\",\n",
    "            n_jobs=-1,\n",
    "            random_state=42\n",
    "        ))\n",
    "    ]),\n",
    "}"
   ]
  },
  {
   "cell_type": "markdown",
   "id": "90452845",
   "metadata": {},
   "source": []
  },
  {
   "cell_type": "code",
   "execution_count": 47,
   "id": "10afee29",
   "metadata": {},
   "outputs": [],
   "source": [
    "from sklearn.metrics import (\n",
    "    accuracy_score, f1_score, roc_auc_score, average_precision_score,\n",
    "    precision_recall_fscore_support, classification_report\n",
    ")\n",
    "import numpy as np\n",
    "\n",
    "def evaluate(model, Xtr, ytr, Xte, yte, name=\"model\"):\n",
    "    model.fit(Xtr, ytr)\n",
    "    if hasattr(model, \"predict_proba\"):\n",
    "        proba = model.predict_proba(Xte)[:, 1]\n",
    "    elif hasattr(model, \"decision_function\"):\n",
    "        s = model.decision_function(Xte)\n",
    "        proba = (s - s.min()) / (s.max() - s.min() + 1e-9)  # normalize to 0..1\n",
    "    else:\n",
    "        proba = model.predict(Xte)\n",
    "    pred = (proba >= 0.5).astype(int)\n",
    "\n",
    "    metrics = {\n",
    "        \"acc\": accuracy_score(yte, pred),\n",
    "        \"f1\": f1_score(yte, pred),\n",
    "        \"roc_auc\": roc_auc_score(yte, proba),\n",
    "        \"pr_auc\": average_precision_score(yte, proba),\n",
    "    }\n",
    "    print(f\"\\n{name}: {metrics}\")\n",
    "    print(classification_report(yte, pred, digits=3))\n",
    "    return model, metrics, proba, pred"
   ]
  },
  {
   "cell_type": "code",
   "execution_count": 48,
   "id": "132492eb",
   "metadata": {},
   "outputs": [
    {
     "name": "stdout",
     "output_type": "stream",
     "text": [
      "\n",
      "dummy: {'acc': 0.7883016414989213, 'f1': 0.0, 'roc_auc': 0.5, 'pr_auc': 0.21169835850107863}\n"
     ]
    },
    {
     "name": "stderr",
     "output_type": "stream",
     "text": [
      "/Users/harish/miniconda3/lib/python3.11/site-packages/sklearn/metrics/_classification.py:1344: UndefinedMetricWarning: Precision and F-score are ill-defined and being set to 0.0 in labels with no predicted samples. Use `zero_division` parameter to control this behavior.\n",
      "  _warn_prf(average, modifier, msg_start, len(result))\n",
      "/Users/harish/miniconda3/lib/python3.11/site-packages/sklearn/metrics/_classification.py:1344: UndefinedMetricWarning: Precision and F-score are ill-defined and being set to 0.0 in labels with no predicted samples. Use `zero_division` parameter to control this behavior.\n",
      "  _warn_prf(average, modifier, msg_start, len(result))\n",
      "/Users/harish/miniconda3/lib/python3.11/site-packages/sklearn/metrics/_classification.py:1344: UndefinedMetricWarning: Precision and F-score are ill-defined and being set to 0.0 in labels with no predicted samples. Use `zero_division` parameter to control this behavior.\n",
      "  _warn_prf(average, modifier, msg_start, len(result))\n"
     ]
    },
    {
     "name": "stdout",
     "output_type": "stream",
     "text": [
      "              precision    recall  f1-score   support\n",
      "\n",
      "           0      0.788     1.000     0.882    220715\n",
      "           1      0.000     0.000     0.000     59273\n",
      "\n",
      "    accuracy                          0.788    279988\n",
      "   macro avg      0.394     0.500     0.441    279988\n",
      "weighted avg      0.621     0.788     0.695    279988\n",
      "\n"
     ]
    },
    {
     "ename": "KeyboardInterrupt",
     "evalue": "",
     "output_type": "error",
     "traceback": [
      "\u001b[0;31m---------------------------------------------------------------------------\u001b[0m",
      "\u001b[0;31mKeyboardInterrupt\u001b[0m                         Traceback (most recent call last)",
      "Cell \u001b[0;32mIn[48], line 5\u001b[0m\n\u001b[1;32m      2\u001b[0m fitted \u001b[38;5;241m=\u001b[39m {}\n\u001b[1;32m      4\u001b[0m \u001b[38;5;28;01mfor\u001b[39;00m name, mdl \u001b[38;5;129;01min\u001b[39;00m models\u001b[38;5;241m.\u001b[39mitems():\n\u001b[0;32m----> 5\u001b[0m     m, met, proba, pred \u001b[38;5;241m=\u001b[39m evaluate(mdl, X_train, y_train, X_test, y_test, name\u001b[38;5;241m=\u001b[39mname)\n\u001b[1;32m      6\u001b[0m     results[name] \u001b[38;5;241m=\u001b[39m met\n\u001b[1;32m      7\u001b[0m     fitted[name] \u001b[38;5;241m=\u001b[39m (m, proba, pred)\n",
      "Cell \u001b[0;32mIn[47], line 8\u001b[0m, in \u001b[0;36mevaluate\u001b[0;34m(model, Xtr, ytr, Xte, yte, name)\u001b[0m\n\u001b[1;32m      7\u001b[0m \u001b[38;5;28;01mdef\u001b[39;00m \u001b[38;5;21mevaluate\u001b[39m(model, Xtr, ytr, Xte, yte, name\u001b[38;5;241m=\u001b[39m\u001b[38;5;124m\"\u001b[39m\u001b[38;5;124mmodel\u001b[39m\u001b[38;5;124m\"\u001b[39m):\n\u001b[0;32m----> 8\u001b[0m     model\u001b[38;5;241m.\u001b[39mfit(Xtr, ytr)\n\u001b[1;32m      9\u001b[0m     \u001b[38;5;28;01mif\u001b[39;00m \u001b[38;5;28mhasattr\u001b[39m(model, \u001b[38;5;124m\"\u001b[39m\u001b[38;5;124mpredict_proba\u001b[39m\u001b[38;5;124m\"\u001b[39m):\n\u001b[1;32m     10\u001b[0m         proba \u001b[38;5;241m=\u001b[39m model\u001b[38;5;241m.\u001b[39mpredict_proba(Xte)[:, \u001b[38;5;241m1\u001b[39m]\n",
      "File \u001b[0;32m~/miniconda3/lib/python3.11/site-packages/sklearn/pipeline.py:405\u001b[0m, in \u001b[0;36mPipeline.fit\u001b[0;34m(self, X, y, **fit_params)\u001b[0m\n\u001b[1;32m    403\u001b[0m     \u001b[38;5;28;01mif\u001b[39;00m \u001b[38;5;28mself\u001b[39m\u001b[38;5;241m.\u001b[39m_final_estimator \u001b[38;5;241m!=\u001b[39m \u001b[38;5;124m\"\u001b[39m\u001b[38;5;124mpassthrough\u001b[39m\u001b[38;5;124m\"\u001b[39m:\n\u001b[1;32m    404\u001b[0m         fit_params_last_step \u001b[38;5;241m=\u001b[39m fit_params_steps[\u001b[38;5;28mself\u001b[39m\u001b[38;5;241m.\u001b[39msteps[\u001b[38;5;241m-\u001b[39m\u001b[38;5;241m1\u001b[39m][\u001b[38;5;241m0\u001b[39m]]\n\u001b[0;32m--> 405\u001b[0m         \u001b[38;5;28mself\u001b[39m\u001b[38;5;241m.\u001b[39m_final_estimator\u001b[38;5;241m.\u001b[39mfit(Xt, y, \u001b[38;5;241m*\u001b[39m\u001b[38;5;241m*\u001b[39mfit_params_last_step)\n\u001b[1;32m    407\u001b[0m \u001b[38;5;28;01mreturn\u001b[39;00m \u001b[38;5;28mself\u001b[39m\n",
      "File \u001b[0;32m~/miniconda3/lib/python3.11/site-packages/sklearn/linear_model/_logistic.py:1291\u001b[0m, in \u001b[0;36mLogisticRegression.fit\u001b[0;34m(self, X, y, sample_weight)\u001b[0m\n\u001b[1;32m   1288\u001b[0m \u001b[38;5;28;01melse\u001b[39;00m:\n\u001b[1;32m   1289\u001b[0m     n_threads \u001b[38;5;241m=\u001b[39m \u001b[38;5;241m1\u001b[39m\n\u001b[0;32m-> 1291\u001b[0m fold_coefs_ \u001b[38;5;241m=\u001b[39m Parallel(n_jobs\u001b[38;5;241m=\u001b[39m\u001b[38;5;28mself\u001b[39m\u001b[38;5;241m.\u001b[39mn_jobs, verbose\u001b[38;5;241m=\u001b[39m\u001b[38;5;28mself\u001b[39m\u001b[38;5;241m.\u001b[39mverbose, prefer\u001b[38;5;241m=\u001b[39mprefer)(\n\u001b[1;32m   1292\u001b[0m     path_func(\n\u001b[1;32m   1293\u001b[0m         X,\n\u001b[1;32m   1294\u001b[0m         y,\n\u001b[1;32m   1295\u001b[0m         pos_class\u001b[38;5;241m=\u001b[39mclass_,\n\u001b[1;32m   1296\u001b[0m         Cs\u001b[38;5;241m=\u001b[39m[C_],\n\u001b[1;32m   1297\u001b[0m         l1_ratio\u001b[38;5;241m=\u001b[39m\u001b[38;5;28mself\u001b[39m\u001b[38;5;241m.\u001b[39ml1_ratio,\n\u001b[1;32m   1298\u001b[0m         fit_intercept\u001b[38;5;241m=\u001b[39m\u001b[38;5;28mself\u001b[39m\u001b[38;5;241m.\u001b[39mfit_intercept,\n\u001b[1;32m   1299\u001b[0m         tol\u001b[38;5;241m=\u001b[39m\u001b[38;5;28mself\u001b[39m\u001b[38;5;241m.\u001b[39mtol,\n\u001b[1;32m   1300\u001b[0m         verbose\u001b[38;5;241m=\u001b[39m\u001b[38;5;28mself\u001b[39m\u001b[38;5;241m.\u001b[39mverbose,\n\u001b[1;32m   1301\u001b[0m         solver\u001b[38;5;241m=\u001b[39msolver,\n\u001b[1;32m   1302\u001b[0m         multi_class\u001b[38;5;241m=\u001b[39mmulti_class,\n\u001b[1;32m   1303\u001b[0m         max_iter\u001b[38;5;241m=\u001b[39m\u001b[38;5;28mself\u001b[39m\u001b[38;5;241m.\u001b[39mmax_iter,\n\u001b[1;32m   1304\u001b[0m         class_weight\u001b[38;5;241m=\u001b[39m\u001b[38;5;28mself\u001b[39m\u001b[38;5;241m.\u001b[39mclass_weight,\n\u001b[1;32m   1305\u001b[0m         check_input\u001b[38;5;241m=\u001b[39m\u001b[38;5;28;01mFalse\u001b[39;00m,\n\u001b[1;32m   1306\u001b[0m         random_state\u001b[38;5;241m=\u001b[39m\u001b[38;5;28mself\u001b[39m\u001b[38;5;241m.\u001b[39mrandom_state,\n\u001b[1;32m   1307\u001b[0m         coef\u001b[38;5;241m=\u001b[39mwarm_start_coef_,\n\u001b[1;32m   1308\u001b[0m         penalty\u001b[38;5;241m=\u001b[39mpenalty,\n\u001b[1;32m   1309\u001b[0m         max_squared_sum\u001b[38;5;241m=\u001b[39mmax_squared_sum,\n\u001b[1;32m   1310\u001b[0m         sample_weight\u001b[38;5;241m=\u001b[39msample_weight,\n\u001b[1;32m   1311\u001b[0m         n_threads\u001b[38;5;241m=\u001b[39mn_threads,\n\u001b[1;32m   1312\u001b[0m     )\n\u001b[1;32m   1313\u001b[0m     \u001b[38;5;28;01mfor\u001b[39;00m class_, warm_start_coef_ \u001b[38;5;129;01min\u001b[39;00m \u001b[38;5;28mzip\u001b[39m(classes_, warm_start_coef)\n\u001b[1;32m   1314\u001b[0m )\n\u001b[1;32m   1316\u001b[0m fold_coefs_, _, n_iter_ \u001b[38;5;241m=\u001b[39m \u001b[38;5;28mzip\u001b[39m(\u001b[38;5;241m*\u001b[39mfold_coefs_)\n\u001b[1;32m   1317\u001b[0m \u001b[38;5;28mself\u001b[39m\u001b[38;5;241m.\u001b[39mn_iter_ \u001b[38;5;241m=\u001b[39m np\u001b[38;5;241m.\u001b[39masarray(n_iter_, dtype\u001b[38;5;241m=\u001b[39mnp\u001b[38;5;241m.\u001b[39mint32)[:, \u001b[38;5;241m0\u001b[39m]\n",
      "File \u001b[0;32m~/miniconda3/lib/python3.11/site-packages/sklearn/utils/parallel.py:63\u001b[0m, in \u001b[0;36mParallel.__call__\u001b[0;34m(self, iterable)\u001b[0m\n\u001b[1;32m     58\u001b[0m config \u001b[38;5;241m=\u001b[39m get_config()\n\u001b[1;32m     59\u001b[0m iterable_with_config \u001b[38;5;241m=\u001b[39m (\n\u001b[1;32m     60\u001b[0m     (_with_config(delayed_func, config), args, kwargs)\n\u001b[1;32m     61\u001b[0m     \u001b[38;5;28;01mfor\u001b[39;00m delayed_func, args, kwargs \u001b[38;5;129;01min\u001b[39;00m iterable\n\u001b[1;32m     62\u001b[0m )\n\u001b[0;32m---> 63\u001b[0m \u001b[38;5;28;01mreturn\u001b[39;00m \u001b[38;5;28msuper\u001b[39m()\u001b[38;5;241m.\u001b[39m\u001b[38;5;21m__call__\u001b[39m(iterable_with_config)\n",
      "File \u001b[0;32m~/miniconda3/lib/python3.11/site-packages/joblib/parallel.py:1098\u001b[0m, in \u001b[0;36mParallel.__call__\u001b[0;34m(self, iterable)\u001b[0m\n\u001b[1;32m   1095\u001b[0m     \u001b[38;5;28mself\u001b[39m\u001b[38;5;241m.\u001b[39m_iterating \u001b[38;5;241m=\u001b[39m \u001b[38;5;28;01mFalse\u001b[39;00m\n\u001b[1;32m   1097\u001b[0m \u001b[38;5;28;01mwith\u001b[39;00m \u001b[38;5;28mself\u001b[39m\u001b[38;5;241m.\u001b[39m_backend\u001b[38;5;241m.\u001b[39mretrieval_context():\n\u001b[0;32m-> 1098\u001b[0m     \u001b[38;5;28mself\u001b[39m\u001b[38;5;241m.\u001b[39mretrieve()\n\u001b[1;32m   1099\u001b[0m \u001b[38;5;66;03m# Make sure that we get a last message telling us we are done\u001b[39;00m\n\u001b[1;32m   1100\u001b[0m elapsed_time \u001b[38;5;241m=\u001b[39m time\u001b[38;5;241m.\u001b[39mtime() \u001b[38;5;241m-\u001b[39m \u001b[38;5;28mself\u001b[39m\u001b[38;5;241m.\u001b[39m_start_time\n",
      "File \u001b[0;32m~/miniconda3/lib/python3.11/site-packages/joblib/parallel.py:975\u001b[0m, in \u001b[0;36mParallel.retrieve\u001b[0;34m(self)\u001b[0m\n\u001b[1;32m    973\u001b[0m \u001b[38;5;28;01mtry\u001b[39;00m:\n\u001b[1;32m    974\u001b[0m     \u001b[38;5;28;01mif\u001b[39;00m \u001b[38;5;28mgetattr\u001b[39m(\u001b[38;5;28mself\u001b[39m\u001b[38;5;241m.\u001b[39m_backend, \u001b[38;5;124m'\u001b[39m\u001b[38;5;124msupports_timeout\u001b[39m\u001b[38;5;124m'\u001b[39m, \u001b[38;5;28;01mFalse\u001b[39;00m):\n\u001b[0;32m--> 975\u001b[0m         \u001b[38;5;28mself\u001b[39m\u001b[38;5;241m.\u001b[39m_output\u001b[38;5;241m.\u001b[39mextend(job\u001b[38;5;241m.\u001b[39mget(timeout\u001b[38;5;241m=\u001b[39m\u001b[38;5;28mself\u001b[39m\u001b[38;5;241m.\u001b[39mtimeout))\n\u001b[1;32m    976\u001b[0m     \u001b[38;5;28;01melse\u001b[39;00m:\n\u001b[1;32m    977\u001b[0m         \u001b[38;5;28mself\u001b[39m\u001b[38;5;241m.\u001b[39m_output\u001b[38;5;241m.\u001b[39mextend(job\u001b[38;5;241m.\u001b[39mget())\n",
      "File \u001b[0;32m~/miniconda3/lib/python3.11/site-packages/joblib/_parallel_backends.py:567\u001b[0m, in \u001b[0;36mLokyBackend.wrap_future_result\u001b[0;34m(future, timeout)\u001b[0m\n\u001b[1;32m    564\u001b[0m \u001b[38;5;250m\u001b[39m\u001b[38;5;124;03m\"\"\"Wrapper for Future.result to implement the same behaviour as\u001b[39;00m\n\u001b[1;32m    565\u001b[0m \u001b[38;5;124;03mAsyncResults.get from multiprocessing.\"\"\"\u001b[39;00m\n\u001b[1;32m    566\u001b[0m \u001b[38;5;28;01mtry\u001b[39;00m:\n\u001b[0;32m--> 567\u001b[0m     \u001b[38;5;28;01mreturn\u001b[39;00m future\u001b[38;5;241m.\u001b[39mresult(timeout\u001b[38;5;241m=\u001b[39mtimeout)\n\u001b[1;32m    568\u001b[0m \u001b[38;5;28;01mexcept\u001b[39;00m CfTimeoutError \u001b[38;5;28;01mas\u001b[39;00m e:\n\u001b[1;32m    569\u001b[0m     \u001b[38;5;28;01mraise\u001b[39;00m \u001b[38;5;167;01mTimeoutError\u001b[39;00m \u001b[38;5;28;01mfrom\u001b[39;00m \u001b[38;5;21;01me\u001b[39;00m\n",
      "File \u001b[0;32m~/miniconda3/lib/python3.11/concurrent/futures/_base.py:451\u001b[0m, in \u001b[0;36mFuture.result\u001b[0;34m(self, timeout)\u001b[0m\n\u001b[1;32m    448\u001b[0m \u001b[38;5;28;01melif\u001b[39;00m \u001b[38;5;28mself\u001b[39m\u001b[38;5;241m.\u001b[39m_state \u001b[38;5;241m==\u001b[39m FINISHED:\n\u001b[1;32m    449\u001b[0m     \u001b[38;5;28;01mreturn\u001b[39;00m \u001b[38;5;28mself\u001b[39m\u001b[38;5;241m.\u001b[39m__get_result()\n\u001b[0;32m--> 451\u001b[0m \u001b[38;5;28mself\u001b[39m\u001b[38;5;241m.\u001b[39m_condition\u001b[38;5;241m.\u001b[39mwait(timeout)\n\u001b[1;32m    453\u001b[0m \u001b[38;5;28;01mif\u001b[39;00m \u001b[38;5;28mself\u001b[39m\u001b[38;5;241m.\u001b[39m_state \u001b[38;5;129;01min\u001b[39;00m [CANCELLED, CANCELLED_AND_NOTIFIED]:\n\u001b[1;32m    454\u001b[0m     \u001b[38;5;28;01mraise\u001b[39;00m CancelledError()\n",
      "File \u001b[0;32m~/miniconda3/lib/python3.11/threading.py:320\u001b[0m, in \u001b[0;36mCondition.wait\u001b[0;34m(self, timeout)\u001b[0m\n\u001b[1;32m    318\u001b[0m \u001b[38;5;28;01mtry\u001b[39;00m:    \u001b[38;5;66;03m# restore state no matter what (e.g., KeyboardInterrupt)\u001b[39;00m\n\u001b[1;32m    319\u001b[0m     \u001b[38;5;28;01mif\u001b[39;00m timeout \u001b[38;5;129;01mis\u001b[39;00m \u001b[38;5;28;01mNone\u001b[39;00m:\n\u001b[0;32m--> 320\u001b[0m         waiter\u001b[38;5;241m.\u001b[39macquire()\n\u001b[1;32m    321\u001b[0m         gotit \u001b[38;5;241m=\u001b[39m \u001b[38;5;28;01mTrue\u001b[39;00m\n\u001b[1;32m    322\u001b[0m     \u001b[38;5;28;01melse\u001b[39;00m:\n",
      "\u001b[0;31mKeyboardInterrupt\u001b[0m: "
     ]
    }
   ],
   "source": [
    "results = {}\n",
    "fitted = {}\n",
    "\n",
    "for name, mdl in models.items():\n",
    "    m, met, proba, pred = evaluate(mdl, X_train, y_train, X_test, y_test, name=name)\n",
    "    results[name] = met\n",
    "    fitted[name] = (m, proba, pred)\n",
    "\n",
    "pd.DataFrame(results).T.sort_values(\"pr_auc\", ascending=False)"
   ]
  },
  {
   "cell_type": "code",
   "execution_count": null,
   "id": "2e244d60",
   "metadata": {},
   "outputs": [],
   "source": [
    "import matplotlib.pyplot as plt\n",
    "from sklearn.metrics import PrecisionRecallDisplay, RocCurveDisplay, ConfusionMatrixDisplay\n",
    "\n",
    "best_name = max(results, key=lambda k: results[k][\"pr_auc\"])\n",
    "best_model = fitted[best_name][0]\n",
    "proba = fitted[best_name][1]\n",
    "pred  = fitted[best_name][2]\n",
    "\n",
    "print(\"Best model:\", best_name)\n",
    "\n",
    "fig, ax = plt.subplots()\n",
    "PrecisionRecallDisplay.from_predictions(y_test, proba, ax=ax)\n",
    "plt.title(f\"Precision-Recall: {best_name}\")\n",
    "plt.show()\n",
    "\n",
    "fig, ax = plt.subplots()\n",
    "RocCurveDisplay.from_predictions(y_test, proba, ax=ax)\n",
    "plt.title(f\"ROC: {best_name}\")\n",
    "plt.show()\n",
    "\n",
    "fig, ax = plt.subplots()\n",
    "ConfusionMatrixDisplay.from_predictions(y_test, pred, normalize=\"true\", ax=ax)\n",
    "plt.title(f\"Confusion Matrix (normalized): {best_name}\")\n",
    "plt.show()"
   ]
  }
 ],
 "metadata": {
  "kernelspec": {
   "display_name": "base",
   "language": "python",
   "name": "python3"
  },
  "language_info": {
   "codemirror_mode": {
    "name": "ipython",
    "version": 3
   },
   "file_extension": ".py",
   "mimetype": "text/x-python",
   "name": "python",
   "nbconvert_exporter": "python",
   "pygments_lexer": "ipython3",
   "version": "3.11.4"
  }
 },
 "nbformat": 4,
 "nbformat_minor": 5
}
